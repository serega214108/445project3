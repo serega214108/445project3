{
 "cells": [
  {
   "cell_type": "markdown",
   "metadata": {},
   "source": [
    "## Math 445: Project 3\n",
    "### Jessica Covington\n",
    "#### 24 April 2016"
   ]
  },
  {
   "cell_type": "markdown",
   "metadata": {},
   "source": [
    "We will be looking at iterative methods for solving systems of linear equations. Iterative methods produce a seuqnce of approximate solution vectors ($x^{(0)}...x^{(k)}$) for a system $Ax=b$. The sequence of vectors converge to the actual solution as $k$ increases. \n",
    "\n",
    "Generally, one chooses a nonsingular matrix $Q$ and some arbitrary starting vector $x^{(0)}$. The successive vectors $x^{(1)}, x^{(2)}...x^{(k)}$ are generated recursively from the equation (for $k=1,2,3$...):\n",
    "$$ Qx^{(k)} = (Q-A)x^{(k-1)}+b $$\n",
    "\n",
    "A few methods that we can use (and will be shown below) are: the Jacobi method, the Gauss-Seidel method, and Successive-Over-Relaxation (SOR)."
   ]
  },
  {
   "cell_type": "code",
   "execution_count": 1,
   "metadata": {
    "collapsed": false
   },
   "outputs": [],
   "source": [
    "import numpy as np\n",
    "import random as rand\n",
    "import matplotlib.pyplot as plt\n",
    "%matplotlib inline\n",
    "from project3 import jacobi, gaussSeidel, SOR"
   ]
  },
  {
   "cell_type": "code",
   "execution_count": 2,
   "metadata": {
    "collapsed": false
   },
   "outputs": [
    {
     "name": "stdout",
     "output_type": "stream",
     "text": [
      "Jacobi: [ 2.  3. -1.] with 36 iterations\n",
      "Gauss Seidel: [ 2.  3. -1.] with 17 iterations\n",
      "SOR: [ 2.  3. -1.] with 11 iterations\n",
      "\n",
      "Correct solution found using linalg.solve:  [ 2.  3. -1.]\n"
     ]
    }
   ],
   "source": [
    "A1 = np.array([[2.,-1.,0.], [-1.,3.,-1.], [0.,-1.,2.]])\n",
    "b1 = np.array([1.,8.,-5.])\n",
    "x_init = np.zeros(len(A1))\n",
    "\n",
    "## global variable for jacobian method\n",
    "kmax = 100    \n",
    "tol = 10**(-8)\n",
    "err = tol\n",
    "w = 1.1\n",
    "\n",
    "k1, x1 = jacobi(A1, b1, x_init, kmax, tol)\n",
    "\n",
    "k2, x2 = gaussSeidel(A1, b1, x_init, kmax, tol)\n",
    "\n",
    "k3, x3 = SOR(A1, b1, x_init, w, kmax, tol)\n",
    "\n",
    "print(\"Jacobi: %s with %s iterations\" %(x1, k1))\n",
    "print(\"Gauss Seidel: %s with %s iterations\" %(x2, k2))\n",
    "print(\"SOR: %s with %s iterations\" %(x3, k3))\n",
    "\n",
    "xtrue = np.linalg.solve(A1, b1)\n",
    "print(\"\\nCorrect solution found using linalg.solve: \", xtrue)"
   ]
  },
  {
   "cell_type": "code",
   "execution_count": 3,
   "metadata": {
    "collapsed": false
   },
   "outputs": [
    {
     "name": "stdout",
     "output_type": "stream",
     "text": [
      "Error for Jacobi: 3.87176246619e-09\n",
      "Error for Gauss Seidel: 1.93588145514e-09\n",
      "Error for SOR: 2.89317458879e-11\n"
     ]
    }
   ],
   "source": [
    "err1 = xtrue - x1\n",
    "err2 = xtrue - x2\n",
    "err3 = xtrue - x3\n",
    "\n",
    "maxerr1 = abs(np.max(err1))\n",
    "maxerr2 = abs(np.max(err2))\n",
    "maxerr3 = abs(np.max(err3))\n",
    "\n",
    "print(\"Error for Jacobi: %s\" %maxerr1)\n",
    "print(\"Error for Gauss Seidel: %s\" %maxerr2)\n",
    "print(\"Error for SOR: %s\" %maxerr3)"
   ]
  },
  {
   "cell_type": "code",
   "execution_count": 4,
   "metadata": {
    "collapsed": false
   },
   "outputs": [],
   "source": [
    "# initialize banded matrix\n",
    "n = 5\n",
    "def bandedMatrix(n):\n",
    "    A2 = np.zeros((n,n))\n",
    "\n",
    "    for i in range(n):\n",
    "        A2[i,n-1-i] = 0.5\n",
    "    for i in range(1,n-1):\n",
    "        A2[i,i] = 3\n",
    "        A2[i,i-1] = -1\n",
    "        A2[i,i+1] = -1\n",
    "    A2[0,0]=3\n",
    "    A2[0,1]=-1\n",
    "    A2[n-1,n-2]=-1\n",
    "    A2[n-1,n-1]=3\n",
    "\n",
    "    n1 = int(n/2-.5)\n",
    "    n2 = int(n/2+.5)\n",
    "\n",
    "    b2 = np.zeros(n)\n",
    "    for i in range(1,n-1):\n",
    "        b2[i] = 1.5\n",
    "    b2[0] = 2.5\n",
    "    b2[n-1] = 2.5\n",
    "\n",
    "    b2[n1] = 1.0\n",
    "    b2[n2] = 1.0\n",
    "    \n",
    "    xinit = np.zeros(n)\n",
    "    \n",
    "    return A2, b2, xinit"
   ]
  },
  {
   "cell_type": "code",
   "execution_count": 5,
   "metadata": {
    "collapsed": false
   },
   "outputs": [
    {
     "name": "stdout",
     "output_type": "stream",
     "text": [
      "Jacobi: [ 1.01958167  1.02091677  0.93457944  0.78282154  0.92434357] with 46 iterations\n",
      "Gauss Seidel: [ 1.01958167  1.02091678  0.93457944  0.78282154  0.92434357] with 16 iterations\n",
      "SOR: [ 1.01958166  1.02091678  0.93457944  0.78282154  0.92434357] with 14 iterations\n"
     ]
    }
   ],
   "source": [
    "A2, b2, xinit = bandedMatrix(n)\n",
    "\n",
    "k1, x1 = jacobi(A2, b2, xinit, kmax, tol)\n",
    "\n",
    "k2, x2 = gaussSeidel(A2, b2, xinit, kmax, tol)\n",
    "\n",
    "k3, x3 = SOR(A2, b2, xinit, w, kmax, tol)\n",
    "\n",
    "print(\"Jacobi: %s with %s iterations\" %(x1, k1))\n",
    "print(\"Gauss Seidel: %s with %s iterations\" %(x2, k2))\n",
    "print(\"SOR: %s with %s iterations\" %(x3, k3))"
   ]
  },
  {
   "cell_type": "code",
   "execution_count": 6,
   "metadata": {
    "collapsed": false
   },
   "outputs": [
    {
     "name": "stdout",
     "output_type": "stream",
     "text": [
      "\n",
      "Correct solution found using linalg.solve:  [ 1.01958166  1.02091678  0.93457944  0.78282154  0.92434357]\n",
      "Error for Jacobi: 3.39163919172e-09\n",
      "Error for Gauss Seidel: 2.28234287025e-09\n",
      "Error for SOR: 1.08629105711e-10\n"
     ]
    }
   ],
   "source": [
    "xtrue = np.linalg.solve(A2, b2)\n",
    "print(\"\\nCorrect solution found using linalg.solve: \", xtrue)\n",
    "\n",
    "err1 = xtrue - x1\n",
    "err2 = xtrue - x2\n",
    "err3 = xtrue - x3\n",
    "\n",
    "maxerr1 = abs(np.max(err1))\n",
    "maxerr2 = abs(np.max(err2))\n",
    "maxerr3 = abs(np.max(err3))\n",
    "\n",
    "print(\"Error for Jacobi: %s\" %maxerr1)\n",
    "print(\"Error for Gauss Seidel: %s\" %maxerr2)\n",
    "print(\"Error for SOR: %s\" %maxerr3)"
   ]
  },
  {
   "cell_type": "markdown",
   "metadata": {},
   "source": [
    "Now let's consider the previous example with $w = 1$ (we just saw the case where $w = 1.1$)"
   ]
  },
  {
   "cell_type": "code",
   "execution_count": 7,
   "metadata": {
    "collapsed": false
   },
   "outputs": [
    {
     "name": "stdout",
     "output_type": "stream",
     "text": [
      "Gauss Seidel: [ 1.01958167  1.02091678  0.93457944  0.78282154  0.92434357] with 16 iterations\n",
      "SOR: [ 1.01958167  1.02091678  0.93457944  0.78282154  0.92434357] with 16 iterations\n"
     ]
    }
   ],
   "source": [
    "w = 1.0\n",
    "\n",
    "j1, y1 = gaussSeidel(A2, b2, xinit, kmax, tol)\n",
    "\n",
    "j2, y2 = SOR(A2, b2, xinit, w, kmax, tol)\n",
    "\n",
    "print(\"Gauss Seidel: %s with %s iterations\" %(y1, j1))\n",
    "print(\"SOR: %s with %s iterations\" %(y2, j2))"
   ]
  },
  {
   "cell_type": "code",
   "execution_count": 8,
   "metadata": {
    "collapsed": false
   },
   "outputs": [
    {
     "name": "stdout",
     "output_type": "stream",
     "text": [
      "Look at the difference between the solutions for Gauss Seidel and SOR (y1-y2): [ 0.  0.  0.  0.  0.]\n",
      "The max error between them is 0.0\n"
     ]
    }
   ],
   "source": [
    "diff = y1-y2\n",
    "print(\"Look at the difference between the solutions for Gauss Seidel and SOR (y1-y2): %s\" %diff)\n",
    "print(\"The max error between them is %s\" %(np.max(diff)))"
   ]
  },
  {
   "cell_type": "markdown",
   "metadata": {},
   "source": [
    "So we can see that when $w=1$ then SOR is Gauss Seidel exactly!"
   ]
  },
  {
   "cell_type": "markdown",
   "metadata": {},
   "source": [
    "Let's again look at the same example, but with a much larger value for n (such as $n=500$) and see what happens."
   ]
  },
  {
   "cell_type": "code",
   "execution_count": 9,
   "metadata": {
    "collapsed": false
   },
   "outputs": [],
   "source": [
    "n = 500\n",
    "A2, b2, xinit = bandedMatrix(n)\n",
    "\n",
    "k1, x1 = jacobi(A2, b2, xinit, kmax, tol)\n",
    "k2, x2 = gaussSeidel(A2, b2, xinit, kmax, tol)\n",
    "k3, x3 = SOR(A2, b2, xinit, w, kmax, tol)"
   ]
  },
  {
   "cell_type": "code",
   "execution_count": 10,
   "metadata": {
    "collapsed": false
   },
   "outputs": [
    {
     "name": "stdout",
     "output_type": "stream",
     "text": [
      "Error for Jacobi: 4.13725642634e-09\n",
      "Error for Gauss Seidel: 1.82436423746e-08\n",
      "Error for SOR: 1.82436423746e-08\n"
     ]
    }
   ],
   "source": [
    "xtrue = np.linalg.solve(A2, b2)\n",
    "\n",
    "err1 = xtrue - x1\n",
    "err2 = xtrue - x2\n",
    "err3 = xtrue - x3\n",
    "\n",
    "maxerr1 = abs(np.max(err1))\n",
    "maxerr2 = abs(np.max(err2))\n",
    "maxerr3 = abs(np.max(err3))\n",
    "\n",
    "print(\"Error for Jacobi: %s\" %maxerr1)\n",
    "print(\"Error for Gauss Seidel: %s\" %maxerr2)\n",
    "print(\"Error for SOR: %s\" %maxerr3)"
   ]
  },
  {
   "cell_type": "markdown",
   "metadata": {},
   "source": [
    "So the iterative methods are also working for large values of n!"
   ]
  },
  {
   "cell_type": "code",
   "execution_count": null,
   "metadata": {
    "collapsed": true
   },
   "outputs": [],
   "source": []
  }
 ],
 "metadata": {
  "kernelspec": {
   "display_name": "Python 3",
   "language": "python",
   "name": "python3"
  },
  "language_info": {
   "codemirror_mode": {
    "name": "ipython",
    "version": 3
   },
   "file_extension": ".py",
   "mimetype": "text/x-python",
   "name": "python",
   "nbconvert_exporter": "python",
   "pygments_lexer": "ipython3",
   "version": "3.5.4"
  }
 },
 "nbformat": 4,
 "nbformat_minor": 0
}
